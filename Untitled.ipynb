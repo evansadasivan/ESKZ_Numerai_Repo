{
 "cells": [
  {
   "cell_type": "code",
   "execution_count": 1,
   "id": "587b4ed5-7afd-4170-adca-7bc04a7e11ec",
   "metadata": {},
   "outputs": [
    {
     "name": "stderr",
     "output_type": "stream",
     "text": [
      "2022-07-28 15:24:54,942 INFO numerapi.utils: starting download\n",
      ".\\numerai_dataset_326.zip: 465MB [08:08, 954kB/s]                                                                      \n",
      "2022-07-28 15:33:02,986 INFO numerapi.base_api: unzipping file...\n",
      "2022-07-28 15:33:20,158 INFO numerapi.base_api: getting rounds...\n",
      "2022-07-28 15:33:21,658 ERROR numerapi.base_api: Your session is invalid or has expired.\n"
     ]
    },
    {
     "name": "stdout",
     "output_type": "stream",
     "text": [
      "no new round within the last 24 hours\n"
     ]
    },
    {
     "ename": "ValueError",
     "evalue": "Your session is invalid or has expired.",
     "output_type": "error",
     "traceback": [
      "\u001b[1;31m---------------------------------------------------------------------------\u001b[0m",
      "\u001b[1;31mValueError\u001b[0m                                Traceback (most recent call last)",
      "Input \u001b[1;32mIn [1]\u001b[0m, in \u001b[0;36m<cell line: 22>\u001b[1;34m()\u001b[0m\n\u001b[0;32m     19\u001b[0m napi \u001b[38;5;241m=\u001b[39m numerapi\u001b[38;5;241m.\u001b[39mNumerAPI(example_public_id, example_secret_key)\n\u001b[0;32m     21\u001b[0m \u001b[38;5;66;03m# upload predictions\u001b[39;00m\n\u001b[1;32m---> 22\u001b[0m model_id \u001b[38;5;241m=\u001b[39m \u001b[43mnapi\u001b[49m\u001b[38;5;241;43m.\u001b[39;49m\u001b[43mget_models\u001b[49m\u001b[43m(\u001b[49m\u001b[43m)\u001b[49m[\u001b[38;5;124m'\u001b[39m\u001b[38;5;124muuazed\u001b[39m\u001b[38;5;124m'\u001b[39m]\n\u001b[0;32m     23\u001b[0m napi\u001b[38;5;241m.\u001b[39mupload_predictions(\u001b[38;5;124m\"\u001b[39m\u001b[38;5;124mpreds.csv\u001b[39m\u001b[38;5;124m\"\u001b[39m, model_id\u001b[38;5;241m=\u001b[39mmodel_id)\n\u001b[0;32m     24\u001b[0m \u001b[38;5;66;03m# check submission status\u001b[39;00m\n",
      "File \u001b[1;32mC:\\ProgramData\\Anaconda3\\lib\\site-packages\\numerapi\\base_api.py:242\u001b[0m, in \u001b[0;36mApi.get_models\u001b[1;34m(self, tournament)\u001b[0m\n\u001b[0;32m    240\u001b[0m \u001b[38;5;28;01mif\u001b[39;00m tournament \u001b[38;5;129;01mis\u001b[39;00m \u001b[38;5;28;01mNone\u001b[39;00m:\n\u001b[0;32m    241\u001b[0m     tournament \u001b[38;5;241m=\u001b[39m \u001b[38;5;28mself\u001b[39m\u001b[38;5;241m.\u001b[39mtournament_id\n\u001b[1;32m--> 242\u001b[0m data \u001b[38;5;241m=\u001b[39m \u001b[38;5;28;43mself\u001b[39;49m\u001b[38;5;241;43m.\u001b[39;49m\u001b[43mraw_query\u001b[49m\u001b[43m(\u001b[49m\n\u001b[0;32m    243\u001b[0m \u001b[43m    \u001b[49m\u001b[43mquery\u001b[49m\u001b[43m,\u001b[49m\u001b[43m \u001b[49m\u001b[43mauthorization\u001b[49m\u001b[38;5;241;43m=\u001b[39;49m\u001b[38;5;28;43;01mTrue\u001b[39;49;00m\u001b[43m)\u001b[49m[\u001b[38;5;124m'\u001b[39m\u001b[38;5;124mdata\u001b[39m\u001b[38;5;124m'\u001b[39m][\u001b[38;5;124m'\u001b[39m\u001b[38;5;124maccount\u001b[39m\u001b[38;5;124m'\u001b[39m][\u001b[38;5;124m'\u001b[39m\u001b[38;5;124mmodels\u001b[39m\u001b[38;5;124m'\u001b[39m]\n\u001b[0;32m    244\u001b[0m mapping \u001b[38;5;241m=\u001b[39m {\n\u001b[0;32m    245\u001b[0m     model[\u001b[38;5;124m'\u001b[39m\u001b[38;5;124mname\u001b[39m\u001b[38;5;124m'\u001b[39m]: model[\u001b[38;5;124m'\u001b[39m\u001b[38;5;124mid\u001b[39m\u001b[38;5;124m'\u001b[39m] \u001b[38;5;28;01mfor\u001b[39;00m model \u001b[38;5;129;01min\u001b[39;00m data\n\u001b[0;32m    246\u001b[0m     \u001b[38;5;28;01mif\u001b[39;00m model[\u001b[38;5;124m'\u001b[39m\u001b[38;5;124mtournament\u001b[39m\u001b[38;5;124m'\u001b[39m] \u001b[38;5;241m==\u001b[39m tournament\n\u001b[0;32m    247\u001b[0m }\n\u001b[0;32m    248\u001b[0m \u001b[38;5;28;01mreturn\u001b[39;00m mapping\n",
      "File \u001b[1;32mC:\\ProgramData\\Anaconda3\\lib\\site-packages\\numerapi\\base_api.py:130\u001b[0m, in \u001b[0;36mApi.raw_query\u001b[1;34m(self, query, variables, authorization, retries, delay, backoff)\u001b[0m\n\u001b[0;32m    128\u001b[0m     err \u001b[38;5;241m=\u001b[39m \u001b[38;5;28mself\u001b[39m\u001b[38;5;241m.\u001b[39m_handle_call_error(result[\u001b[38;5;124m'\u001b[39m\u001b[38;5;124merrors\u001b[39m\u001b[38;5;124m'\u001b[39m])\n\u001b[0;32m    129\u001b[0m     \u001b[38;5;66;03m# fail!\u001b[39;00m\n\u001b[1;32m--> 130\u001b[0m     \u001b[38;5;28;01mraise\u001b[39;00m \u001b[38;5;167;01mValueError\u001b[39;00m(err)\n\u001b[0;32m    131\u001b[0m \u001b[38;5;28;01mreturn\u001b[39;00m result\n",
      "\u001b[1;31mValueError\u001b[0m: Your session is invalid or has expired."
     ]
    }
   ],
   "source": [
    "import numerapi\n",
    "# some API calls do not require logging in\n",
    "napi = numerapi.NumerAPI(verbosity=\"info\")\n",
    "# download current dataset\n",
    "napi.download_current_dataset(unzip=True)\n",
    "# get competitions\n",
    "all_competitions = napi.get_competitions()\n",
    "# get current leaderboard\n",
    "leaderboard = napi.get_leaderboard()\n",
    "# check if a new round has started\n",
    "if napi.check_new_round():\n",
    "    print(\"new round has started within the last 24hours!\")\n",
    "else:\n",
    "    print(\"no new round within the last 24 hours\")\n",
    "\n",
    "# provide api tokens\n",
    "example_public_id = \"somepublicid\"\n",
    "example_secret_key = \"somesecretkey\"\n",
    "napi = numerapi.NumerAPI(example_public_id, example_secret_key)\n",
    "\n",
    "# upload predictions\n",
    "model_id = napi.get_models()['uuazed']\n",
    "napi.upload_predictions(\"preds.csv\", model_id=model_id)\n",
    "# check submission status\n",
    "napi.submission_status(model_id)\n",
    "# increase your stake by 1.2 NMR\n",
    "napi.stake_increase(1.2)\n",
    "\n",
    "# convert results to a pandas dataframe\n",
    "import pandas as pd\n",
    "df = pd.DataFrame(napi.daily_user_performances(\"uuazed\"))"
   ]
  },
  {
   "cell_type": "code",
   "execution_count": 2,
   "id": "49afc4d7-37bd-40da-bf28-386512a2bc52",
   "metadata": {},
   "outputs": [
    {
     "ename": "NameError",
     "evalue": "name 'df' is not defined",
     "output_type": "error",
     "traceback": [
      "\u001b[1;31m---------------------------------------------------------------------------\u001b[0m",
      "\u001b[1;31mNameError\u001b[0m                                 Traceback (most recent call last)",
      "Input \u001b[1;32mIn [2]\u001b[0m, in \u001b[0;36m<cell line: 1>\u001b[1;34m()\u001b[0m\n\u001b[1;32m----> 1\u001b[0m \u001b[43mdf\u001b[49m\n",
      "\u001b[1;31mNameError\u001b[0m: name 'df' is not defined"
     ]
    }
   ],
   "source": [
    "df\n"
   ]
  },
  {
   "cell_type": "code",
   "execution_count": null,
   "id": "76851a60-0b66-4f3b-8c62-562d656877f4",
   "metadata": {},
   "outputs": [],
   "source": []
  }
 ],
 "metadata": {
  "kernelspec": {
   "display_name": "Python 3 (ipykernel)",
   "language": "python",
   "name": "python3"
  },
  "language_info": {
   "codemirror_mode": {
    "name": "ipython",
    "version": 3
   },
   "file_extension": ".py",
   "mimetype": "text/x-python",
   "name": "python",
   "nbconvert_exporter": "python",
   "pygments_lexer": "ipython3",
   "version": "3.9.12"
  }
 },
 "nbformat": 4,
 "nbformat_minor": 5
}
